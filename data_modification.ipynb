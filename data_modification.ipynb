{
 "cells": [
  {
   "cell_type": "code",
   "execution_count": 91,
   "metadata": {},
   "outputs": [],
   "source": [
    "import pandas as pd"
   ]
  },
  {
   "cell_type": "code",
   "execution_count": 92,
   "metadata": {},
   "outputs": [],
   "source": [
    "df=pd.read_csv('data.csv')"
   ]
  },
  {
   "cell_type": "code",
   "execution_count": 93,
   "metadata": {},
   "outputs": [
    {
     "data": {
      "text/html": [
       "<div>\n",
       "<style scoped>\n",
       "    .dataframe tbody tr th:only-of-type {\n",
       "        vertical-align: middle;\n",
       "    }\n",
       "\n",
       "    .dataframe tbody tr th {\n",
       "        vertical-align: top;\n",
       "    }\n",
       "\n",
       "    .dataframe thead th {\n",
       "        text-align: right;\n",
       "    }\n",
       "</style>\n",
       "<table border=\"1\" class=\"dataframe\">\n",
       "  <thead>\n",
       "    <tr style=\"text-align: right;\">\n",
       "      <th></th>\n",
       "      <th>3</th>\n",
       "      <th>FINE GOLD (9999): 110000</th>\n",
       "      <th>STANDARD GOLD (9950): 109500</th>\n",
       "      <th>Silver: 1450</th>\n",
       "    </tr>\n",
       "  </thead>\n",
       "  <tbody>\n",
       "    <tr>\n",
       "      <th>0</th>\n",
       "      <td>4</td>\n",
       "      <td>FINE GOLD (9999): 110000</td>\n",
       "      <td>STANDARD GOLD (9950): 109500</td>\n",
       "      <td>Silver: 1450</td>\n",
       "    </tr>\n",
       "    <tr>\n",
       "      <th>1</th>\n",
       "      <td>5</td>\n",
       "      <td>FINE GOLD (9999): 110000</td>\n",
       "      <td>STANDARD GOLD (9950): 109500</td>\n",
       "      <td>Silver: 1435</td>\n",
       "    </tr>\n",
       "    <tr>\n",
       "      <th>2</th>\n",
       "      <td>6</td>\n",
       "      <td>FINE GOLD (9999): 110300</td>\n",
       "      <td>STANDARD GOLD (9950): 109750</td>\n",
       "      <td>Silver: 1445</td>\n",
       "    </tr>\n",
       "    <tr>\n",
       "      <th>3</th>\n",
       "      <td>7</td>\n",
       "      <td>FINE GOLD (9999): 109800</td>\n",
       "      <td>STANDARD GOLD (9950): 109300</td>\n",
       "      <td>Silver: 1445</td>\n",
       "    </tr>\n",
       "    <tr>\n",
       "      <th>4</th>\n",
       "      <td>8</td>\n",
       "      <td>FINE GOLD (9999): 110200</td>\n",
       "      <td>STANDARD GOLD (9950): 109650</td>\n",
       "      <td>Silver: 1445</td>\n",
       "    </tr>\n",
       "  </tbody>\n",
       "</table>\n",
       "</div>"
      ],
      "text/plain": [
       "   3  FINE GOLD (9999): 110000  STANDARD GOLD (9950): 109500  Silver: 1450\n",
       "0  4  FINE GOLD (9999): 110000  STANDARD GOLD (9950): 109500  Silver: 1450\n",
       "1  5  FINE GOLD (9999): 110000  STANDARD GOLD (9950): 109500  Silver: 1435\n",
       "2  6  FINE GOLD (9999): 110300  STANDARD GOLD (9950): 109750  Silver: 1445\n",
       "3  7  FINE GOLD (9999): 109800  STANDARD GOLD (9950): 109300  Silver: 1445\n",
       "4  8  FINE GOLD (9999): 110200  STANDARD GOLD (9950): 109650  Silver: 1445"
      ]
     },
     "execution_count": 93,
     "metadata": {},
     "output_type": "execute_result"
    }
   ],
   "source": [
    "df.head()"
   ]
  },
  {
   "cell_type": "code",
   "execution_count": 94,
   "metadata": {},
   "outputs": [
    {
     "data": {
      "text/plain": [
       "Index(['3', 'FINE GOLD (9999): 110000', 'STANDARD GOLD (9950): 109500',\n",
       "       'Silver: 1450'],\n",
       "      dtype='object')"
      ]
     },
     "execution_count": 94,
     "metadata": {},
     "output_type": "execute_result"
    }
   ],
   "source": [
    "df.columns"
   ]
  },
  {
   "cell_type": "code",
   "execution_count": 95,
   "metadata": {},
   "outputs": [
    {
     "data": {
      "text/html": [
       "<div>\n",
       "<style scoped>\n",
       "    .dataframe tbody tr th:only-of-type {\n",
       "        vertical-align: middle;\n",
       "    }\n",
       "\n",
       "    .dataframe tbody tr th {\n",
       "        vertical-align: top;\n",
       "    }\n",
       "\n",
       "    .dataframe thead th {\n",
       "        text-align: right;\n",
       "    }\n",
       "</style>\n",
       "<table border=\"1\" class=\"dataframe\">\n",
       "  <thead>\n",
       "    <tr style=\"text-align: right;\">\n",
       "      <th></th>\n",
       "      <th>3</th>\n",
       "      <th>FINE GOLD (9999): 110000</th>\n",
       "      <th>STANDARD GOLD (9950): 109500</th>\n",
       "      <th>Silver: 1450</th>\n",
       "    </tr>\n",
       "  </thead>\n",
       "  <tbody>\n",
       "    <tr>\n",
       "      <th>0</th>\n",
       "      <td>4</td>\n",
       "      <td>FINE GOLD (9999): 110000</td>\n",
       "      <td>STANDARD GOLD (9950): 109500</td>\n",
       "      <td>Silver: 1450</td>\n",
       "    </tr>\n",
       "    <tr>\n",
       "      <th>1</th>\n",
       "      <td>5</td>\n",
       "      <td>FINE GOLD (9999): 110000</td>\n",
       "      <td>STANDARD GOLD (9950): 109500</td>\n",
       "      <td>Silver: 1435</td>\n",
       "    </tr>\n",
       "    <tr>\n",
       "      <th>2</th>\n",
       "      <td>6</td>\n",
       "      <td>FINE GOLD (9999): 110300</td>\n",
       "      <td>STANDARD GOLD (9950): 109750</td>\n",
       "      <td>Silver: 1445</td>\n",
       "    </tr>\n",
       "    <tr>\n",
       "      <th>3</th>\n",
       "      <td>7</td>\n",
       "      <td>FINE GOLD (9999): 109800</td>\n",
       "      <td>STANDARD GOLD (9950): 109300</td>\n",
       "      <td>Silver: 1445</td>\n",
       "    </tr>\n",
       "    <tr>\n",
       "      <th>4</th>\n",
       "      <td>8</td>\n",
       "      <td>FINE GOLD (9999): 110200</td>\n",
       "      <td>STANDARD GOLD (9950): 109650</td>\n",
       "      <td>Silver: 1445</td>\n",
       "    </tr>\n",
       "  </tbody>\n",
       "</table>\n",
       "</div>"
      ],
      "text/plain": [
       "   3  FINE GOLD (9999): 110000  STANDARD GOLD (9950): 109500  Silver: 1450\n",
       "0  4  FINE GOLD (9999): 110000  STANDARD GOLD (9950): 109500  Silver: 1450\n",
       "1  5  FINE GOLD (9999): 110000  STANDARD GOLD (9950): 109500  Silver: 1435\n",
       "2  6  FINE GOLD (9999): 110300  STANDARD GOLD (9950): 109750  Silver: 1445\n",
       "3  7  FINE GOLD (9999): 109800  STANDARD GOLD (9950): 109300  Silver: 1445\n",
       "4  8  FINE GOLD (9999): 110200  STANDARD GOLD (9950): 109650  Silver: 1445"
      ]
     },
     "execution_count": 95,
     "metadata": {},
     "output_type": "execute_result"
    }
   ],
   "source": [
    "df.head()"
   ]
  },
  {
   "cell_type": "code",
   "execution_count": 96,
   "metadata": {},
   "outputs": [],
   "source": [
    "df=df.rename(columns={'3':'Day','FINE GOLD (9999): 110000':'Fine Gold',\n",
    "                      'STANDARD GOLD (9950): 109500':'Standard Gold','Silver: 1450':'Silver'})"
   ]
  },
  {
   "cell_type": "code",
   "execution_count": 97,
   "metadata": {},
   "outputs": [
    {
     "data": {
      "text/html": [
       "<div>\n",
       "<style scoped>\n",
       "    .dataframe tbody tr th:only-of-type {\n",
       "        vertical-align: middle;\n",
       "    }\n",
       "\n",
       "    .dataframe tbody tr th {\n",
       "        vertical-align: top;\n",
       "    }\n",
       "\n",
       "    .dataframe thead th {\n",
       "        text-align: right;\n",
       "    }\n",
       "</style>\n",
       "<table border=\"1\" class=\"dataframe\">\n",
       "  <thead>\n",
       "    <tr style=\"text-align: right;\">\n",
       "      <th></th>\n",
       "      <th>Day</th>\n",
       "      <th>Fine Gold</th>\n",
       "      <th>Standard Gold</th>\n",
       "      <th>Silver</th>\n",
       "    </tr>\n",
       "  </thead>\n",
       "  <tbody>\n",
       "    <tr>\n",
       "      <th>0</th>\n",
       "      <td>4</td>\n",
       "      <td>FINE GOLD (9999): 110000</td>\n",
       "      <td>STANDARD GOLD (9950): 109500</td>\n",
       "      <td>Silver: 1450</td>\n",
       "    </tr>\n",
       "    <tr>\n",
       "      <th>1</th>\n",
       "      <td>5</td>\n",
       "      <td>FINE GOLD (9999): 110000</td>\n",
       "      <td>STANDARD GOLD (9950): 109500</td>\n",
       "      <td>Silver: 1435</td>\n",
       "    </tr>\n",
       "    <tr>\n",
       "      <th>2</th>\n",
       "      <td>6</td>\n",
       "      <td>FINE GOLD (9999): 110300</td>\n",
       "      <td>STANDARD GOLD (9950): 109750</td>\n",
       "      <td>Silver: 1445</td>\n",
       "    </tr>\n",
       "    <tr>\n",
       "      <th>3</th>\n",
       "      <td>7</td>\n",
       "      <td>FINE GOLD (9999): 109800</td>\n",
       "      <td>STANDARD GOLD (9950): 109300</td>\n",
       "      <td>Silver: 1445</td>\n",
       "    </tr>\n",
       "    <tr>\n",
       "      <th>4</th>\n",
       "      <td>8</td>\n",
       "      <td>FINE GOLD (9999): 110200</td>\n",
       "      <td>STANDARD GOLD (9950): 109650</td>\n",
       "      <td>Silver: 1445</td>\n",
       "    </tr>\n",
       "  </tbody>\n",
       "</table>\n",
       "</div>"
      ],
      "text/plain": [
       "   Day                 Fine Gold                 Standard Gold        Silver\n",
       "0    4  FINE GOLD (9999): 110000  STANDARD GOLD (9950): 109500  Silver: 1450\n",
       "1    5  FINE GOLD (9999): 110000  STANDARD GOLD (9950): 109500  Silver: 1435\n",
       "2    6  FINE GOLD (9999): 110300  STANDARD GOLD (9950): 109750  Silver: 1445\n",
       "3    7  FINE GOLD (9999): 109800  STANDARD GOLD (9950): 109300  Silver: 1445\n",
       "4    8  FINE GOLD (9999): 110200  STANDARD GOLD (9950): 109650  Silver: 1445"
      ]
     },
     "execution_count": 97,
     "metadata": {},
     "output_type": "execute_result"
    }
   ],
   "source": [
    "df.head()"
   ]
  },
  {
   "cell_type": "code",
   "execution_count": 98,
   "metadata": {},
   "outputs": [],
   "source": [
    "df['Day'] = df.index + 1"
   ]
  },
  {
   "cell_type": "code",
   "execution_count": 99,
   "metadata": {},
   "outputs": [
    {
     "data": {
      "text/html": [
       "<div>\n",
       "<style scoped>\n",
       "    .dataframe tbody tr th:only-of-type {\n",
       "        vertical-align: middle;\n",
       "    }\n",
       "\n",
       "    .dataframe tbody tr th {\n",
       "        vertical-align: top;\n",
       "    }\n",
       "\n",
       "    .dataframe thead th {\n",
       "        text-align: right;\n",
       "    }\n",
       "</style>\n",
       "<table border=\"1\" class=\"dataframe\">\n",
       "  <thead>\n",
       "    <tr style=\"text-align: right;\">\n",
       "      <th></th>\n",
       "      <th>Day</th>\n",
       "      <th>Fine Gold</th>\n",
       "      <th>Standard Gold</th>\n",
       "      <th>Silver</th>\n",
       "    </tr>\n",
       "  </thead>\n",
       "  <tbody>\n",
       "    <tr>\n",
       "      <th>0</th>\n",
       "      <td>1</td>\n",
       "      <td>FINE GOLD (9999): 110000</td>\n",
       "      <td>STANDARD GOLD (9950): 109500</td>\n",
       "      <td>Silver: 1450</td>\n",
       "    </tr>\n",
       "    <tr>\n",
       "      <th>1</th>\n",
       "      <td>2</td>\n",
       "      <td>FINE GOLD (9999): 110000</td>\n",
       "      <td>STANDARD GOLD (9950): 109500</td>\n",
       "      <td>Silver: 1435</td>\n",
       "    </tr>\n",
       "    <tr>\n",
       "      <th>2</th>\n",
       "      <td>3</td>\n",
       "      <td>FINE GOLD (9999): 110300</td>\n",
       "      <td>STANDARD GOLD (9950): 109750</td>\n",
       "      <td>Silver: 1445</td>\n",
       "    </tr>\n",
       "    <tr>\n",
       "      <th>3</th>\n",
       "      <td>4</td>\n",
       "      <td>FINE GOLD (9999): 109800</td>\n",
       "      <td>STANDARD GOLD (9950): 109300</td>\n",
       "      <td>Silver: 1445</td>\n",
       "    </tr>\n",
       "    <tr>\n",
       "      <th>4</th>\n",
       "      <td>5</td>\n",
       "      <td>FINE GOLD (9999): 110200</td>\n",
       "      <td>STANDARD GOLD (9950): 109650</td>\n",
       "      <td>Silver: 1445</td>\n",
       "    </tr>\n",
       "    <tr>\n",
       "      <th>...</th>\n",
       "      <td>...</td>\n",
       "      <td>...</td>\n",
       "      <td>...</td>\n",
       "      <td>...</td>\n",
       "    </tr>\n",
       "    <tr>\n",
       "      <th>298</th>\n",
       "      <td>299</td>\n",
       "      <td>FINE GOLD (9999): 136200</td>\n",
       "      <td>STANDARD GOLD (9950): 135550</td>\n",
       "      <td>Silver: 1685</td>\n",
       "    </tr>\n",
       "    <tr>\n",
       "      <th>299</th>\n",
       "      <td>300</td>\n",
       "      <td>FINE GOLD (9999): 136300</td>\n",
       "      <td>STANDARD GOLD (9950): 135650</td>\n",
       "      <td>Silver: 1685</td>\n",
       "    </tr>\n",
       "    <tr>\n",
       "      <th>300</th>\n",
       "      <td>301</td>\n",
       "      <td>FINE GOLD (9999): 136800</td>\n",
       "      <td>STANDARD GOLD (9950): 136150</td>\n",
       "      <td>Silver: 1700</td>\n",
       "    </tr>\n",
       "    <tr>\n",
       "      <th>301</th>\n",
       "      <td>302</td>\n",
       "      <td>FINE GOLD (9999): 136600</td>\n",
       "      <td>STANDARD GOLD (9950): 135950</td>\n",
       "      <td>Silver: 1700</td>\n",
       "    </tr>\n",
       "    <tr>\n",
       "      <th>302</th>\n",
       "      <td>303</td>\n",
       "      <td>FINE GOLD (9999): 139000</td>\n",
       "      <td>STANDARD GOLD (9950): 138350</td>\n",
       "      <td>Silver: 1750</td>\n",
       "    </tr>\n",
       "  </tbody>\n",
       "</table>\n",
       "<p>303 rows × 4 columns</p>\n",
       "</div>"
      ],
      "text/plain": [
       "     Day                 Fine Gold                 Standard Gold        Silver\n",
       "0      1  FINE GOLD (9999): 110000  STANDARD GOLD (9950): 109500  Silver: 1450\n",
       "1      2  FINE GOLD (9999): 110000  STANDARD GOLD (9950): 109500  Silver: 1435\n",
       "2      3  FINE GOLD (9999): 110300  STANDARD GOLD (9950): 109750  Silver: 1445\n",
       "3      4  FINE GOLD (9999): 109800  STANDARD GOLD (9950): 109300  Silver: 1445\n",
       "4      5  FINE GOLD (9999): 110200  STANDARD GOLD (9950): 109650  Silver: 1445\n",
       "..   ...                       ...                           ...           ...\n",
       "298  299  FINE GOLD (9999): 136200  STANDARD GOLD (9950): 135550  Silver: 1685\n",
       "299  300  FINE GOLD (9999): 136300  STANDARD GOLD (9950): 135650  Silver: 1685\n",
       "300  301  FINE GOLD (9999): 136800  STANDARD GOLD (9950): 136150  Silver: 1700\n",
       "301  302  FINE GOLD (9999): 136600  STANDARD GOLD (9950): 135950  Silver: 1700\n",
       "302  303  FINE GOLD (9999): 139000  STANDARD GOLD (9950): 138350  Silver: 1750\n",
       "\n",
       "[303 rows x 4 columns]"
      ]
     },
     "execution_count": 99,
     "metadata": {},
     "output_type": "execute_result"
    }
   ],
   "source": [
    "df"
   ]
  },
  {
   "cell_type": "code",
   "execution_count": 100,
   "metadata": {},
   "outputs": [],
   "source": [
    "df['Fine Gold']=df['Fine Gold'].str.replace('FINE GOLD \\(9999\\): ', '', regex=True)\n",
    "df['Standard Gold']=df['Standard Gold'].str.replace('STANDARD GOLD \\(9950\\): ', '', regex=True)\n",
    "df['Silver']=df['Silver'].str.replace('Silver: ', '', regex=True)\n"
   ]
  },
  {
   "cell_type": "code",
   "execution_count": 101,
   "metadata": {},
   "outputs": [
    {
     "data": {
      "text/html": [
       "<div>\n",
       "<style scoped>\n",
       "    .dataframe tbody tr th:only-of-type {\n",
       "        vertical-align: middle;\n",
       "    }\n",
       "\n",
       "    .dataframe tbody tr th {\n",
       "        vertical-align: top;\n",
       "    }\n",
       "\n",
       "    .dataframe thead th {\n",
       "        text-align: right;\n",
       "    }\n",
       "</style>\n",
       "<table border=\"1\" class=\"dataframe\">\n",
       "  <thead>\n",
       "    <tr style=\"text-align: right;\">\n",
       "      <th></th>\n",
       "      <th>Day</th>\n",
       "      <th>Fine Gold</th>\n",
       "      <th>Standard Gold</th>\n",
       "      <th>Silver</th>\n",
       "    </tr>\n",
       "  </thead>\n",
       "  <tbody>\n",
       "    <tr>\n",
       "      <th>0</th>\n",
       "      <td>1</td>\n",
       "      <td>110000</td>\n",
       "      <td>109500</td>\n",
       "      <td>1450</td>\n",
       "    </tr>\n",
       "    <tr>\n",
       "      <th>1</th>\n",
       "      <td>2</td>\n",
       "      <td>110000</td>\n",
       "      <td>109500</td>\n",
       "      <td>1435</td>\n",
       "    </tr>\n",
       "    <tr>\n",
       "      <th>2</th>\n",
       "      <td>3</td>\n",
       "      <td>110300</td>\n",
       "      <td>109750</td>\n",
       "      <td>1445</td>\n",
       "    </tr>\n",
       "    <tr>\n",
       "      <th>3</th>\n",
       "      <td>4</td>\n",
       "      <td>109800</td>\n",
       "      <td>109300</td>\n",
       "      <td>1445</td>\n",
       "    </tr>\n",
       "    <tr>\n",
       "      <th>4</th>\n",
       "      <td>5</td>\n",
       "      <td>110200</td>\n",
       "      <td>109650</td>\n",
       "      <td>1445</td>\n",
       "    </tr>\n",
       "    <tr>\n",
       "      <th>...</th>\n",
       "      <td>...</td>\n",
       "      <td>...</td>\n",
       "      <td>...</td>\n",
       "      <td>...</td>\n",
       "    </tr>\n",
       "    <tr>\n",
       "      <th>298</th>\n",
       "      <td>299</td>\n",
       "      <td>136200</td>\n",
       "      <td>135550</td>\n",
       "      <td>1685</td>\n",
       "    </tr>\n",
       "    <tr>\n",
       "      <th>299</th>\n",
       "      <td>300</td>\n",
       "      <td>136300</td>\n",
       "      <td>135650</td>\n",
       "      <td>1685</td>\n",
       "    </tr>\n",
       "    <tr>\n",
       "      <th>300</th>\n",
       "      <td>301</td>\n",
       "      <td>136800</td>\n",
       "      <td>136150</td>\n",
       "      <td>1700</td>\n",
       "    </tr>\n",
       "    <tr>\n",
       "      <th>301</th>\n",
       "      <td>302</td>\n",
       "      <td>136600</td>\n",
       "      <td>135950</td>\n",
       "      <td>1700</td>\n",
       "    </tr>\n",
       "    <tr>\n",
       "      <th>302</th>\n",
       "      <td>303</td>\n",
       "      <td>139000</td>\n",
       "      <td>138350</td>\n",
       "      <td>1750</td>\n",
       "    </tr>\n",
       "  </tbody>\n",
       "</table>\n",
       "<p>303 rows × 4 columns</p>\n",
       "</div>"
      ],
      "text/plain": [
       "     Day Fine Gold Standard Gold Silver\n",
       "0      1    110000        109500   1450\n",
       "1      2    110000        109500   1435\n",
       "2      3    110300        109750   1445\n",
       "3      4    109800        109300   1445\n",
       "4      5    110200        109650   1445\n",
       "..   ...       ...           ...    ...\n",
       "298  299    136200        135550   1685\n",
       "299  300    136300        135650   1685\n",
       "300  301    136800        136150   1700\n",
       "301  302    136600        135950   1700\n",
       "302  303    139000        138350   1750\n",
       "\n",
       "[303 rows x 4 columns]"
      ]
     },
     "execution_count": 101,
     "metadata": {},
     "output_type": "execute_result"
    }
   ],
   "source": [
    "df"
   ]
  },
  {
   "cell_type": "code",
   "execution_count": 102,
   "metadata": {},
   "outputs": [],
   "source": [
    "from sklearn.linear_model import LinearRegression\n",
    "from sklearn.model_selection import train_test_split\n",
    "from sklearn.metrics import accuracy_score\n"
   ]
  },
  {
   "cell_type": "code",
   "execution_count": 103,
   "metadata": {},
   "outputs": [],
   "source": [
    "x=df[['Day']]\n",
    "y=df['Fine Gold']"
   ]
  },
  {
   "cell_type": "code",
   "execution_count": 104,
   "metadata": {},
   "outputs": [
    {
     "name": "stdout",
     "output_type": "stream",
     "text": [
      "0.6613589222757326\n"
     ]
    }
   ],
   "source": [
    "X_train, X_test, y_train, y_test = train_test_split(x, y, test_size=0.2, random_state=0)\n",
    "model=LinearRegression()\n",
    "model.fit(X_train,y_train)\n",
    "y_pred=model.predict(X_test)\n",
    "accuracy_score= model.score(X_test,y_test)\n",
    "print(accuracy_score)"
   ]
  },
  {
   "cell_type": "code",
   "execution_count": 105,
   "metadata": {},
   "outputs": [
    {
     "name": "stderr",
     "output_type": "stream",
     "text": [
      "/Users/bibekrai/tensorflow-test/env/lib/python3.10/site-packages/sklearn/base.py:409: UserWarning: X does not have valid feature names, but LinearRegression was fitted with feature names\n",
      "  warnings.warn(\n"
     ]
    },
    {
     "data": {
      "text/plain": [
       "array([124511.34936914])"
      ]
     },
     "execution_count": 105,
     "metadata": {},
     "output_type": "execute_result"
    }
   ],
   "source": [
    "y_pred=model.predict([[304]])\n",
    "y_pred\n"
   ]
  },
  {
   "cell_type": "code",
   "execution_count": null,
   "metadata": {},
   "outputs": [],
   "source": []
  }
 ],
 "metadata": {
  "kernelspec": {
   "display_name": "Python 3",
   "language": "python",
   "name": "python3"
  },
  "language_info": {
   "codemirror_mode": {
    "name": "ipython",
    "version": 3
   },
   "file_extension": ".py",
   "mimetype": "text/x-python",
   "name": "python",
   "nbconvert_exporter": "python",
   "pygments_lexer": "ipython3",
   "version": "3.10.6"
  }
 },
 "nbformat": 4,
 "nbformat_minor": 2
}
